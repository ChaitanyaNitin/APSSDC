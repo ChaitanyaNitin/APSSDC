{
 "cells": [
  {
   "cell_type": "code",
   "execution_count": 2,
   "id": "edfc4e16",
   "metadata": {},
   "outputs": [
    {
     "name": "stdout",
     "output_type": "stream",
     "text": [
      "qwerty1234$%\n",
      "Given string is:  qwerty1234$%\n",
      "Given string is:  qwerty1234$%\n",
      "Alphabets in qwerty1234$% is:  q w e r t y\n",
      "Numbers in qwerty1234$% is:  1 2 3 4\n",
      "Special characters in qwerty1234$% is:  $ %\n"
     ]
    }
   ],
   "source": [
    "s=input()\n",
    "alp=\"\"\n",
    "num=\"\"\n",
    "sc=\"\"\n",
    "print(\"Given string is: \",s)\n",
    "for i in s:\n",
    "    if i.isalpha():\n",
    "        alp+=\" \"+i\n",
    "    elif i.isalnum():\n",
    "        num+=\" \"+i\n",
    "    elif not i.isalnum():\n",
    "        sc+=\" \"+i\n",
    "print(\"Given string is: \",s)\n",
    "print(\"Alphabets in \"+s+\" is:\",alp)\n",
    "print(\"Numbers in \"+s+\" is:\",num)\n",
    "print(\"Special characters in \"+s+\" is:\",sc)"
   ]
  },
  {
   "cell_type": "code",
   "execution_count": 4,
   "id": "f78ae19c",
   "metadata": {},
   "outputs": [
    {
     "name": "stdout",
     "output_type": "stream",
     "text": [
      "4321\n",
      "Given number is:  4321\n",
      "Even numbers are:  4 2 \n",
      "odd numbers are:  3 1 \n"
     ]
    }
   ],
   "source": [
    "def function(n):\n",
    "    print(\"Given number is: \",n)\n",
    "    ev=\"\"\n",
    "    od=\"\"\n",
    "    while(n>0):\n",
    "        r=n%10\n",
    "        n=n//10\n",
    "        if(r%2==0):\n",
    "            ev=str(r)+\" \"+ev\n",
    "        else:\n",
    "            od=str(r)+\" \"+od\n",
    "    print(\"Even numbers are: \",ev)\n",
    "    print(\"odd numbers are: \",od)\n",
    "    \n",
    "n=int(input())\n",
    "function(n)"
   ]
  },
  {
   "cell_type": "code",
   "execution_count": null,
   "id": "d46f7cd7",
   "metadata": {},
   "outputs": [],
   "source": []
  }
 ],
 "metadata": {
  "kernelspec": {
   "display_name": "Python 3",
   "language": "python",
   "name": "python3"
  },
  "language_info": {
   "codemirror_mode": {
    "name": "ipython",
    "version": 3
   },
   "file_extension": ".py",
   "mimetype": "text/x-python",
   "name": "python",
   "nbconvert_exporter": "python",
   "pygments_lexer": "ipython3",
   "version": "3.7.5"
  }
 },
 "nbformat": 4,
 "nbformat_minor": 5
}
